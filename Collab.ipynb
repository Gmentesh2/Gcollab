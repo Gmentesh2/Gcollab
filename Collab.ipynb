{
  "nbformat": 4,
  "nbformat_minor": 0,
  "metadata": {
    "colab": {
      "name": "Collab.ipynb",
      "provenance": [],
      "collapsed_sections": [],
      "authorship_tag": "ABX9TyNTMXzw9Fkd9Q96Se2y77+G",
      "include_colab_link": true
    },
    "kernelspec": {
      "name": "python3",
      "display_name": "Python 3"
    },
    "language_info": {
      "name": "python"
    }
  },
  "cells": [
    {
      "cell_type": "markdown",
      "metadata": {
        "id": "view-in-github",
        "colab_type": "text"
      },
      "source": [
        "<a href=\"https://colab.research.google.com/github/Gmentesh2/Gcollab/blob/main/Collab.ipynb\" target=\"_parent\"><img src=\"https://colab.research.google.com/assets/colab-badge.svg\" alt=\"Open In Colab\"/></a>"
      ]
    },
    {
      "cell_type": "code",
      "metadata": {
        "colab": {
          "base_uri": "https://localhost:8080/"
        },
        "id": "STQM6kUdqchX",
        "outputId": "86ab163b-e85d-4596-9f9a-0cf70d0e90bc"
      },
      "source": [
        "print(\"Hello world\")"
      ],
      "execution_count": null,
      "outputs": [
        {
          "output_type": "stream",
          "name": "stdout",
          "text": [
            "Hello world\n"
          ]
        }
      ]
    },
    {
      "cell_type": "code",
      "metadata": {
        "colab": {
          "base_uri": "https://localhost:8080/"
        },
        "id": "vnUeV1a2-V25",
        "outputId": "b93e12c0-8563-483e-9722-671581eb9b79"
      },
      "source": [
        "print(\"Hello again\")"
      ],
      "execution_count": null,
      "outputs": [
        {
          "output_type": "stream",
          "name": "stdout",
          "text": [
            "Hello again\n"
          ]
        }
      ]
    },
    {
      "cell_type": "code",
      "metadata": {
        "colab": {
          "base_uri": "https://localhost:8080/"
        },
        "id": "74sEKSFYNN02",
        "outputId": "8e32f9f0-a4bd-4424-b2a3-612d0741ec0e"
      },
      "source": [
        "alien_colour = {\"colour\":\"red\",\"points\": 10}\n",
        "# print(alien_colour[\"colour\"])\n",
        "# print(alien_colour[\"points\"])\n",
        "type(alien_colour)\n",
        "Colour = alien_colour.get(\"colour\")\n",
        "print(Colour)\n",
        "Points = alien_colour.get(\"points\")\n",
        "print(Points)\n",
        "\n"
      ],
      "execution_count": 12,
      "outputs": [
        {
          "output_type": "stream",
          "name": "stdout",
          "text": [
            "red\n",
            "10\n"
          ]
        }
      ]
    },
    {
      "cell_type": "code",
      "metadata": {
        "colab": {
          "base_uri": "https://localhost:8080/"
        },
        "id": "b6GVC4jTA996",
        "outputId": "2ccba4b5-7449-416f-d8e7-4b92bba357f8"
      },
      "source": [
        "n = 5 \n",
        "while n <= 50:\n",
        "  print(n)\n",
        "  n += 5\n",
        "n = 30 \n",
        "while n >= 10:\n",
        "  print(n)\n",
        "  n -= 5"
      ],
      "execution_count": null,
      "outputs": [
        {
          "output_type": "stream",
          "name": "stdout",
          "text": [
            "30\n",
            "25\n",
            "20\n",
            "15\n",
            "10\n"
          ]
        }
      ]
    },
    {
      "cell_type": "code",
      "metadata": {
        "colab": {
          "base_uri": "https://localhost:8080/"
        },
        "id": "LMPmEnraDliY",
        "outputId": "a28ce954-3d57-4f5c-f722-a837715efc30"
      },
      "source": [
        "alien_colour = {\"colour\":\"red\",\"points\": 10}\n",
        "print(alien_colour)\n",
        "alien_colour[\"X\"] = 5\n",
        "alien_colour[\"Y\"] = 10\n",
        "print(alien_colour)"
      ],
      "execution_count": 15,
      "outputs": [
        {
          "output_type": "stream",
          "name": "stdout",
          "text": [
            "{'colour': 'red', 'points': 10}\n",
            "{'colour': 'red', 'points': 10, 'X': 5, 'Y': 10}\n"
          ]
        }
      ]
    },
    {
      "cell_type": "code",
      "metadata": {
        "colab": {
          "base_uri": "https://localhost:8080/"
        },
        "id": "9YWy3oOWGIk5",
        "outputId": "5d733911-338e-4150-95ca-64806efaa81e"
      },
      "source": [
        "alien_colour = {}\n",
        "alien_colour[\"colour\"] = \"blue\".title()\n",
        "alien_colour[\"points\"] = 10\n",
        "print(alien_colour)"
      ],
      "execution_count": 17,
      "outputs": [
        {
          "output_type": "stream",
          "name": "stdout",
          "text": [
            "{'colour': 'Blue', 'points': 10}\n"
          ]
        }
      ]
    }
  ]
}