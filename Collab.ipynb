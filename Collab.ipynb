{
  "nbformat": 4,
  "nbformat_minor": 0,
  "metadata": {
    "colab": {
      "name": "Collab.ipynb",
      "provenance": [],
      "collapsed_sections": [],
      "authorship_tag": "ABX9TyNb+ZDQC4qIKJrfSPp67Pc8",
      "include_colab_link": true
    },
    "kernelspec": {
      "name": "python3",
      "display_name": "Python 3"
    },
    "language_info": {
      "name": "python"
    }
  },
  "cells": [
    {
      "cell_type": "markdown",
      "metadata": {
        "id": "view-in-github",
        "colab_type": "text"
      },
      "source": [
        "<a href=\"https://colab.research.google.com/github/Gmentesh2/Gcollab/blob/main/Collab.ipynb\" target=\"_parent\"><img src=\"https://colab.research.google.com/assets/colab-badge.svg\" alt=\"Open In Colab\"/></a>"
      ]
    },
    {
      "cell_type": "code",
      "metadata": {
        "colab": {
          "base_uri": "https://localhost:8080/"
        },
        "id": "STQM6kUdqchX",
        "outputId": "86ab163b-e85d-4596-9f9a-0cf70d0e90bc"
      },
      "source": [
        "print(\"Hello world\")"
      ],
      "execution_count": null,
      "outputs": [
        {
          "output_type": "stream",
          "name": "stdout",
          "text": [
            "Hello world\n"
          ]
        }
      ]
    },
    {
      "cell_type": "code",
      "metadata": {
        "colab": {
          "base_uri": "https://localhost:8080/"
        },
        "id": "vnUeV1a2-V25",
        "outputId": "b93e12c0-8563-483e-9722-671581eb9b79"
      },
      "source": [
        "print(\"Hello again\")"
      ],
      "execution_count": null,
      "outputs": [
        {
          "output_type": "stream",
          "name": "stdout",
          "text": [
            "Hello again\n"
          ]
        }
      ]
    },
    {
      "cell_type": "code",
      "metadata": {
        "colab": {
          "base_uri": "https://localhost:8080/"
        },
        "id": "74sEKSFYNN02",
        "outputId": "8e32f9f0-a4bd-4424-b2a3-612d0741ec0e"
      },
      "source": [
        "alien_colour = {\"colour\":\"red\",\"points\": 10}\n",
        "# print(alien_colour[\"colour\"])\n",
        "# print(alien_colour[\"points\"])\n",
        "type(alien_colour)\n",
        "Colour = alien_colour.get(\"colour\")\n",
        "print(Colour)\n",
        "Points = alien_colour.get(\"points\")\n",
        "print(Points)\n",
        "\n"
      ],
      "execution_count": 12,
      "outputs": [
        {
          "output_type": "stream",
          "name": "stdout",
          "text": [
            "red\n",
            "10\n"
          ]
        }
      ]
    },
    {
      "cell_type": "code",
      "metadata": {
        "colab": {
          "base_uri": "https://localhost:8080/"
        },
        "id": "b6GVC4jTA996",
        "outputId": "2ccba4b5-7449-416f-d8e7-4b92bba357f8"
      },
      "source": [
        "n = 5 \n",
        "while n <= 50:\n",
        "  print(n)\n",
        "  n += 5\n",
        "n = 30 \n",
        "while n >= 10:\n",
        "  print(n)\n",
        "  n -= 5"
      ],
      "execution_count": null,
      "outputs": [
        {
          "output_type": "stream",
          "name": "stdout",
          "text": [
            "30\n",
            "25\n",
            "20\n",
            "15\n",
            "10\n"
          ]
        }
      ]
    },
    {
      "cell_type": "code",
      "metadata": {
        "colab": {
          "base_uri": "https://localhost:8080/"
        },
        "id": "LMPmEnraDliY",
        "outputId": "a28ce954-3d57-4f5c-f722-a837715efc30"
      },
      "source": [
        "alien_colour = {\"colour\":\"red\",\"points\": 10}\n",
        "print(alien_colour)\n",
        "alien_colour[\"X\"] = 5\n",
        "alien_colour[\"Y\"] = 10\n",
        "print(alien_colour)"
      ],
      "execution_count": 15,
      "outputs": [
        {
          "output_type": "stream",
          "name": "stdout",
          "text": [
            "{'colour': 'red', 'points': 10}\n",
            "{'colour': 'red', 'points': 10, 'X': 5, 'Y': 10}\n"
          ]
        }
      ]
    },
    {
      "cell_type": "code",
      "metadata": {
        "colab": {
          "base_uri": "https://localhost:8080/"
        },
        "id": "9YWy3oOWGIk5",
        "outputId": "5d733911-338e-4150-95ca-64806efaa81e"
      },
      "source": [
        "alien_colour = {}\n",
        "alien_colour[\"colour\"] = \"blue\".title()\n",
        "alien_colour[\"points\"] = 10\n",
        "print(alien_colour)"
      ],
      "execution_count": 17,
      "outputs": [
        {
          "output_type": "stream",
          "name": "stdout",
          "text": [
            "{'colour': 'Blue', 'points': 10}\n"
          ]
        }
      ]
    },
    {
      "cell_type": "code",
      "metadata": {
        "colab": {
          "base_uri": "https://localhost:8080/"
        },
        "id": "FSSzDEZlNKTo",
        "outputId": "6c719585-ab7b-4c4f-ac05-796fffa2eb23"
      },
      "source": [
        "alien_colour = {\"colour\":\"red\",\"points\": 10}\n",
        "print(alien_colour)\n",
        "alien_colour[\"colour\"] = \"blue\"\n",
        "alien_colour[\"points\"] = 20\n",
        "print(alien_colour)\n"
      ],
      "execution_count": 18,
      "outputs": [
        {
          "output_type": "stream",
          "name": "stdout",
          "text": [
            "{'colour': 'red', 'points': 10}\n",
            "{'colour': 'blue', 'points': 20}\n"
          ]
        }
      ]
    },
    {
      "cell_type": "markdown",
      "metadata": {
        "id": "jI7WraE2OHz7"
      },
      "source": [
        "# deleting a value pair \n"
      ]
    },
    {
      "cell_type": "code",
      "metadata": {
        "colab": {
          "base_uri": "https://localhost:8080/"
        },
        "id": "T_2jsMOxOLn1",
        "outputId": "009d7a30-734e-4e7f-bb28-9a92a564f249"
      },
      "source": [
        "alien_colour = {\"colour\":\"red\",\"points\": 10}\n",
        "print(alien_colour)\n",
        "del alien_colour[\"points\"]\n",
        "print(alien_colour)\n"
      ],
      "execution_count": 20,
      "outputs": [
        {
          "output_type": "stream",
          "name": "stdout",
          "text": [
            "{'colour': 'red', 'points': 10}\n",
            "{'colour': 'red'}\n"
          ]
        }
      ]
    },
    {
      "cell_type": "markdown",
      "metadata": {
        "id": "CbqPnfNzSbLz"
      },
      "source": [
        "\n",
        "\n",
        "# A little bit long dictionary \n"
      ]
    },
    {
      "cell_type": "code",
      "metadata": {
        "colab": {
          "base_uri": "https://localhost:8080/"
        },
        "id": "wIJE5P0GSrZw",
        "outputId": "e4028cc3-fab3-40ae-f250-2d250c415a7e"
      },
      "source": [
        "fav_languages = {\n",
        "    \"jane\": \"python\",\n",
        "    \"lucas\": \"C#\",\n",
        "    \"mary\": \"javascipt\",\n",
        "    \"show\": \"C++\"\n",
        "}\n",
        "print(fav_languages)\n",
        "\n",
        "for name, languages in fav_languages.items():\n",
        "  print(name + ': ' + languages)"
      ],
      "execution_count": 29,
      "outputs": [
        {
          "output_type": "stream",
          "name": "stdout",
          "text": [
            "{'jane': 'python', 'lucas': 'C#', 'mary': 'javascipt', 'show': 'C++'}\n",
            "jane: python\n",
            "lucas: C#\n",
            "mary: javascipt\n",
            "show: C++\n"
          ]
        }
      ]
    },
    {
      "cell_type": "code",
      "metadata": {
        "colab": {
          "base_uri": "https://localhost:8080/"
        },
        "id": "CpNk32-gXPkd",
        "outputId": "85db9b28-f79a-43bf-dcb0-5d5f6b152423"
      },
      "source": [
        "fav_languages = {\n",
        "    \"jane\": \"python\",\n",
        "    \"lucas\": \"C#\",\n",
        "    \"mary\": \"javascipt\",\n",
        "    \"show\": \"C++\"\n",
        "}\n",
        "print(fav_languages)\n",
        "\n",
        "for language in fav_languages.values():\n",
        "  print(language)\n",
        "for name in fav_languages.keys():\n",
        "  print(name)"
      ],
      "execution_count": 35,
      "outputs": [
        {
          "output_type": "stream",
          "name": "stdout",
          "text": [
            "{'jane': 'python', 'lucas': 'C#', 'mary': 'javascipt', 'show': 'C++'}\n",
            "python\n",
            "C#\n",
            "javascipt\n",
            "C++\n",
            "jane\n",
            "lucas\n",
            "mary\n",
            "show\n"
          ]
        }
      ]
    },
    {
      "cell_type": "markdown",
      "metadata": {
        "id": "Z8NJjpYtbA63"
      },
      "source": [
        "# Dictionary length"
      ]
    },
    {
      "cell_type": "code",
      "metadata": {
        "colab": {
          "base_uri": "https://localhost:8080/"
        },
        "id": "N2dUQKAtbHym",
        "outputId": "fe9b4451-76ee-4de1-d791-e84028f34d50"
      },
      "source": [
        "fav_languages = {\n",
        "    \"jane\": \"python\",\n",
        "    \"lucas\": \"C#\",\n",
        "    \"mary\": \"javascipt\",\n",
        "    \"show\": \"C++\"\n",
        "}\n",
        "num_responces = len(fav_languages)\n",
        "num_responces"
      ],
      "execution_count": 36,
      "outputs": [
        {
          "output_type": "execute_result",
          "data": {
            "text/plain": [
              "4"
            ]
          },
          "metadata": {},
          "execution_count": 36
        }
      ]
    },
    {
      "cell_type": "markdown",
      "metadata": {
        "id": "3bpNPSmfbn7P"
      },
      "source": [
        "# Nesting dictionary "
      ]
    },
    {
      "cell_type": "code",
      "metadata": {
        "colab": {
          "base_uri": "https://localhost:8080/"
        },
        "id": "BnfXTdC1bqlU",
        "outputId": "5c681583-c9ca-41f2-c2d4-f91091fadba8"
      },
      "source": [
        "users = []\n",
        "\n",
        "new_user = {\n",
        "  \"first_name\": \"jovani\",\n",
        "  \"last_name\": \"bocacho\",\n",
        "  \"username\": \"Jbocacho\"\n",
        "}\n",
        "users.append(new_user)\n",
        "print(users)\n",
        "new_user = {\n",
        "    \"first_name\": \"leonardo\",\n",
        "    \"last_name\": \"davinci\",\n",
        "    \"username\": \"Ldavinci\"\n",
        "}\n",
        "users.append(new_user)\n",
        "print(users)"
      ],
      "execution_count": 40,
      "outputs": [
        {
          "output_type": "stream",
          "name": "stdout",
          "text": [
            "[{'first_name': 'jovani', 'last_name': 'bocacho', 'username': 'Jbocacho'}]\n",
            "[{'first_name': 'jovani', 'last_name': 'bocacho', 'username': 'Jbocacho'}, {'first_name': 'leonardo', 'last_name': 'davinci', 'username': 'Ldavinci'}]\n"
          ]
        }
      ]
    },
    {
      "cell_type": "markdown",
      "metadata": {
        "id": "YmlyPn7PfApx"
      },
      "source": [
        "# for loop in for loop\n"
      ]
    },
    {
      "cell_type": "code",
      "metadata": {
        "colab": {
          "base_uri": "https://localhost:8080/"
        },
        "id": "YCimZ5Eze7ex",
        "outputId": "fe5f8f7d-b3b5-4ed2-81bd-aa2820500556"
      },
      "source": [
        "users = []\n",
        "\n",
        "new_user = {\n",
        "  \"first_name\": \"jovani\",\n",
        "  \"last_name\": \"bocacho\",\n",
        "  \"username\": \"Jbocacho\"\n",
        "}\n",
        "users.append(new_user)\n",
        "\n",
        "new_user = {\n",
        "    \"first_name\": \"leonardo\",\n",
        "    \"last_name\": \"davinci\",\n",
        "    \"username\": \"Ldavinci\"\n",
        "}\n",
        "users.append(new_user)\n",
        "\n",
        "for user_dict in users:\n",
        "  for k, v in user_dict.items():\n",
        "    print(k + \": \" + v)\n",
        "  print(\"\\n\")"
      ],
      "execution_count": 41,
      "outputs": [
        {
          "output_type": "stream",
          "name": "stdout",
          "text": [
            "first_name: jovani\n",
            "last_name: bocacho\n",
            "username: Jbocacho\n",
            "\n",
            "\n",
            "first_name: leonardo\n",
            "last_name: davinci\n",
            "username: Ldavinci\n",
            "\n",
            "\n"
          ]
        }
      ]
    },
    {
      "cell_type": "markdown",
      "metadata": {
        "id": "P6I1D-mze7Ip"
      },
      "source": [
        "# storing lists in dictionary\n",
        "\n",
        "\n"
      ]
    },
    {
      "cell_type": "code",
      "metadata": {
        "colab": {
          "base_uri": "https://localhost:8080/"
        },
        "id": "LsoIjI_Apsr5",
        "outputId": "8547b3fb-955c-4338-eec2-0f92435225a8"
      },
      "source": [
        "fav_languages = {\n",
        "    \"sara\": [\"python\",\"C#\"],\n",
        "    \"jonas\":[\"java\",\"python\"],\n",
        "    \"george\":[\"C++\"],\n",
        "    \"lucas\":[\"SQL\",\"C\"]\n",
        "}\n",
        "\n",
        "for name, LANGS in fav_languages.items():\n",
        "  print(name + \":\")\n",
        "  for LANG in LANGS:\n",
        "    print(\"-\" + LANG)\n",
        "  print(\"\\n\")"
      ],
      "execution_count": 49,
      "outputs": [
        {
          "output_type": "stream",
          "name": "stdout",
          "text": [
            "sara:\n",
            "-python\n",
            "-C#\n",
            "\n",
            "\n",
            "jonas:\n",
            "-java\n",
            "-python\n",
            "\n",
            "\n",
            "george:\n",
            "-C++\n",
            "\n",
            "\n",
            "lucas:\n",
            "-SQL\n",
            "-C\n",
            "\n",
            "\n"
          ]
        }
      ]
    }
  ]
}